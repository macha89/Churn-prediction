{
 "cells": [
  {
   "cell_type": "code",
   "execution_count": 117,
   "metadata": {},
   "outputs": [],
   "source": [
    "import numpy as np\n",
    "import pandas as pd\n",
    "\n",
    "from matplotlib import pyplot as plt\n",
    "\n",
    "from sklearn.model_selection import train_test_split\n",
    "\n",
    "from tensorflow.keras import Sequential\n",
    "from tensorflow.keras.layers import Dense\n",
    "from tensorflow.keras.models import load_model"
   ]
  },
  {
   "cell_type": "code",
   "execution_count": 133,
   "metadata": {},
   "outputs": [],
   "source": [
    "data = pd.read_csv('Churn.csv')"
   ]
  },
  {
   "cell_type": "code",
   "execution_count": 134,
   "metadata": {},
   "outputs": [
    {
     "data": {
      "text/plain": [
       "Index(['customerID', 'gender', 'SeniorCitizen', 'Partner', 'Dependents',\n",
       "       'tenure', 'PhoneService', 'MultipleLines', 'InternetService',\n",
       "       'OnlineSecurity', 'OnlineBackup', 'DeviceProtection', 'TechSupport',\n",
       "       'StreamingTV', 'StreamingMovies', 'Contract', 'PaperlessBilling',\n",
       "       'PaymentMethod', 'MonthlyCharges', 'TotalCharges', 'Churn'],\n",
       "      dtype='object')"
      ]
     },
     "execution_count": 134,
     "metadata": {},
     "output_type": "execute_result"
    }
   ],
   "source": [
    "data.columns"
   ]
  },
  {
   "cell_type": "code",
   "execution_count": 135,
   "metadata": {
    "scrolled": true
   },
   "outputs": [
    {
     "data": {
      "text/plain": [
       "customerID           object\n",
       "gender               object\n",
       "SeniorCitizen         int64\n",
       "Partner              object\n",
       "Dependents           object\n",
       "tenure                int64\n",
       "PhoneService         object\n",
       "MultipleLines        object\n",
       "InternetService      object\n",
       "OnlineSecurity       object\n",
       "OnlineBackup         object\n",
       "DeviceProtection     object\n",
       "TechSupport          object\n",
       "StreamingTV          object\n",
       "StreamingMovies      object\n",
       "Contract             object\n",
       "PaperlessBilling     object\n",
       "PaymentMethod        object\n",
       "MonthlyCharges      float64\n",
       "TotalCharges         object\n",
       "Churn                object\n",
       "dtype: object"
      ]
     },
     "execution_count": 135,
     "metadata": {},
     "output_type": "execute_result"
    }
   ],
   "source": [
    "data.dtypes"
   ]
  },
  {
   "cell_type": "code",
   "execution_count": 136,
   "metadata": {},
   "outputs": [],
   "source": [
    "data.SeniorCitizen.replace([0, 1], [\"No\", \"Yes\"], inplace= True)"
   ]
  },
  {
   "cell_type": "code",
   "execution_count": 138,
   "metadata": {},
   "outputs": [
    {
     "name": "stdout",
     "output_type": "stream",
     "text": [
      "charge is:  \n",
      "charge is:  \n",
      "charge is:  \n",
      "charge is:  \n",
      "charge is:  \n",
      "charge is:  \n",
      "charge is:  \n",
      "charge is:  \n",
      "charge is:  \n",
      "charge is:  \n",
      "charge is:  \n"
     ]
    }
   ],
   "source": [
    "for charge in data.TotalCharges:\n",
    "    try:\n",
    "      charge = float(charge)\n",
    "    except:\n",
    "      print(\"charge is: %s\" % charge)"
   ]
  },
  {
   "cell_type": "code",
   "execution_count": 139,
   "metadata": {},
   "outputs": [
    {
     "name": "stdout",
     "output_type": "stream",
     "text": [
      "Tenure is 0 and Monthly charges are 52.55\n",
      "Tenure is 0 and Monthly charges are 20.25\n",
      "Tenure is 0 and Monthly charges are 80.85\n",
      "Tenure is 0 and Monthly charges are 25.75\n",
      "Tenure is 0 and Monthly charges are 56.05\n",
      "Tenure is 0 and Monthly charges are 19.85\n",
      "Tenure is 0 and Monthly charges are 25.35\n",
      "Tenure is 0 and Monthly charges are 20.0\n",
      "Tenure is 0 and Monthly charges are 19.7\n",
      "Tenure is 0 and Monthly charges are 73.35\n",
      "Tenure is 0 and Monthly charges are 61.9\n"
     ]
    }
   ],
   "source": [
    "for i in range(len(data)):\n",
    "  if data.TotalCharges[i] == \" \":\n",
    "      print(\"Tenure is %s and Monthly charges are %s\" % (data.tenure[i], data.MonthlyCharges[i]))"
   ]
  },
  {
   "cell_type": "code",
   "execution_count": 140,
   "metadata": {},
   "outputs": [],
   "source": [
    "data.TotalCharges.replace([\" \"], [\"0\"], inplace= True)\n",
    "data.TotalCharges = data.TotalCharges.astype(float)"
   ]
  },
  {
   "cell_type": "code",
   "execution_count": 141,
   "metadata": {},
   "outputs": [
    {
     "data": {
      "text/plain": [
       "customerID           object\n",
       "gender               object\n",
       "SeniorCitizen        object\n",
       "Partner              object\n",
       "Dependents           object\n",
       "tenure                int64\n",
       "PhoneService         object\n",
       "MultipleLines        object\n",
       "InternetService      object\n",
       "OnlineSecurity       object\n",
       "OnlineBackup         object\n",
       "DeviceProtection     object\n",
       "TechSupport          object\n",
       "StreamingTV          object\n",
       "StreamingMovies      object\n",
       "Contract             object\n",
       "PaperlessBilling     object\n",
       "PaymentMethod        object\n",
       "MonthlyCharges      float64\n",
       "TotalCharges        float64\n",
       "Churn                object\n",
       "dtype: object"
      ]
     },
     "execution_count": 141,
     "metadata": {},
     "output_type": "execute_result"
    }
   ],
   "source": [
    "data.dtypes"
   ]
  },
  {
   "cell_type": "code",
   "execution_count": 142,
   "metadata": {},
   "outputs": [],
   "source": [
    "data.drop(\"customerID\", axis= 1, inplace= True)"
   ]
  },
  {
   "cell_type": "code",
   "execution_count": 143,
   "metadata": {},
   "outputs": [
    {
     "name": "stdout",
     "output_type": "stream",
     "text": [
      "gender ['Female' 'Male']\n",
      "SeniorCitizen ['No' 'Yes']\n",
      "Partner ['Yes' 'No']\n",
      "Dependents ['No' 'Yes']\n",
      "PhoneService ['No' 'Yes']\n",
      "MultipleLines ['No phone service' 'No' 'Yes']\n",
      "InternetService ['DSL' 'Fiber optic' 'No']\n",
      "OnlineSecurity ['No' 'Yes' 'No internet service']\n",
      "OnlineBackup ['Yes' 'No' 'No internet service']\n",
      "DeviceProtection ['No' 'Yes' 'No internet service']\n",
      "TechSupport ['No' 'Yes' 'No internet service']\n",
      "StreamingTV ['No' 'Yes' 'No internet service']\n",
      "StreamingMovies ['No' 'Yes' 'No internet service']\n",
      "Contract ['Month-to-month' 'One year' 'Two year']\n",
      "PaperlessBilling ['Yes' 'No']\n",
      "PaymentMethod ['Electronic check' 'Mailed check' 'Bank transfer (automatic)'\n",
      " 'Credit card (automatic)']\n",
      "Churn ['No' 'Yes']\n"
     ]
    }
   ],
   "source": [
    "for col in data.dtypes[data.dtypes == object].index:\n",
    "    print(col, data[col].unique())"
   ]
  },
  {
   "cell_type": "code",
   "execution_count": 144,
   "metadata": {},
   "outputs": [],
   "source": [
    "data.Churn.replace([\"Yes\", \"No\"], [1, 0], inplace= True)"
   ]
  },
  {
   "cell_type": "code",
   "execution_count": 150,
   "metadata": {},
   "outputs": [],
   "source": [
    "data = pd.get_dummies(data)"
   ]
  },
  {
   "cell_type": "code",
   "execution_count": 151,
   "metadata": {},
   "outputs": [],
   "source": [
    "X = data.drop(['Churn'],axis=1)\n",
    "y = data.Churn"
   ]
  },
  {
   "cell_type": "code",
   "execution_count": 152,
   "metadata": {},
   "outputs": [],
   "source": [
    "X_train, X_test, y_train, y_test = train_test_split(X, y, test_size= 0.57, random_state= 1234)"
   ]
  },
  {
   "cell_type": "code",
   "execution_count": 153,
   "metadata": {},
   "outputs": [],
   "source": [
    "model = Sequential()\n",
    "model.add(Dense(16, input_dim=X_train.shape[1], activation='relu'))\n",
    "model.add(Dense(8, activation='relu'))\n",
    "model.compile(loss='binary_crossentropy', optimizer='adam', metrics=['accuracy'])\n",
    "model.add(Dense(1, activation='sigmoid'))"
   ]
  },
  {
   "cell_type": "code",
   "execution_count": 154,
   "metadata": {},
   "outputs": [],
   "source": [
    "model.compile(loss='binary_crossentropy', optimizer='adam', metrics=['accuracy'])"
   ]
  },
  {
   "cell_type": "code",
   "execution_count": 157,
   "metadata": {},
   "outputs": [
    {
     "name": "stdout",
     "output_type": "stream",
     "text": [
      "Epoch 1/200\n",
      "3098/3098 [==============================] - 0s 33us/sample - loss: 0.3960 - acc: 0.8160\n",
      "Epoch 2/200\n",
      "3098/3098 [==============================] - 0s 34us/sample - loss: 0.3920 - acc: 0.8173\n",
      "Epoch 3/200\n",
      "3098/3098 [==============================] - 0s 33us/sample - loss: 0.3915 - acc: 0.8225\n",
      "Epoch 4/200\n",
      "3098/3098 [==============================] - 0s 31us/sample - loss: 0.3933 - acc: 0.8186\n",
      "Epoch 5/200\n",
      "3098/3098 [==============================] - 0s 30us/sample - loss: 0.3939 - acc: 0.8160\n",
      "Epoch 6/200\n",
      "3098/3098 [==============================] - 0s 31us/sample - loss: 0.3928 - acc: 0.8183\n",
      "Epoch 7/200\n",
      "3098/3098 [==============================] - 0s 31us/sample - loss: 0.3896 - acc: 0.8186\n",
      "Epoch 8/200\n",
      "3098/3098 [==============================] - 0s 32us/sample - loss: 0.3882 - acc: 0.8241\n",
      "Epoch 9/200\n",
      "3098/3098 [==============================] - 0s 31us/sample - loss: 0.4001 - acc: 0.8089\n",
      "Epoch 10/200\n",
      "3098/3098 [==============================] - 0s 31us/sample - loss: 0.4024 - acc: 0.8108\n",
      "Epoch 11/200\n",
      "3098/3098 [==============================] - 0s 33us/sample - loss: 0.3992 - acc: 0.8157\n",
      "Epoch 12/200\n",
      "3098/3098 [==============================] - 0s 31us/sample - loss: 0.3937 - acc: 0.8167\n",
      "Epoch 13/200\n",
      "3098/3098 [==============================] - 0s 38us/sample - loss: 0.3923 - acc: 0.8170\n",
      "Epoch 14/200\n",
      "3098/3098 [==============================] - 0s 31us/sample - loss: 0.3904 - acc: 0.8205\n",
      "Epoch 15/200\n",
      "3098/3098 [==============================] - 0s 34us/sample - loss: 0.4017 - acc: 0.8128\n",
      "Epoch 16/200\n",
      "3098/3098 [==============================] - 0s 36us/sample - loss: 0.3928 - acc: 0.8183\n",
      "Epoch 17/200\n",
      "3098/3098 [==============================] - 0s 32us/sample - loss: 0.4126 - acc: 0.8096\n",
      "Epoch 18/200\n",
      "3098/3098 [==============================] - 0s 33us/sample - loss: 0.3963 - acc: 0.8189\n",
      "Epoch 19/200\n",
      "3098/3098 [==============================] - 0s 30us/sample - loss: 0.4054 - acc: 0.8073\n",
      "Epoch 20/200\n",
      "3098/3098 [==============================] - 0s 30us/sample - loss: 0.3948 - acc: 0.8160\n",
      "Epoch 21/200\n",
      "3098/3098 [==============================] - 0s 31us/sample - loss: 0.3994 - acc: 0.8138\n",
      "Epoch 22/200\n",
      "3098/3098 [==============================] - 0s 40us/sample - loss: 0.3870 - acc: 0.8238\n",
      "Epoch 23/200\n",
      "3098/3098 [==============================] - 0s 39us/sample - loss: 0.4046 - acc: 0.8086\n",
      "Epoch 24/200\n",
      "3098/3098 [==============================] - 0s 32us/sample - loss: 0.3931 - acc: 0.8221\n",
      "Epoch 25/200\n",
      "3098/3098 [==============================] - 0s 30us/sample - loss: 0.3936 - acc: 0.8189\n",
      "Epoch 26/200\n",
      "3098/3098 [==============================] - 0s 31us/sample - loss: 0.3914 - acc: 0.8170\n",
      "Epoch 27/200\n",
      "3098/3098 [==============================] - 0s 33us/sample - loss: 0.3986 - acc: 0.8131\n",
      "Epoch 28/200\n",
      "3098/3098 [==============================] - 0s 31us/sample - loss: 0.3947 - acc: 0.8205\n",
      "Epoch 29/200\n",
      "3098/3098 [==============================] - 0s 31us/sample - loss: 0.3964 - acc: 0.8189\n",
      "Epoch 30/200\n",
      "3098/3098 [==============================] - 0s 32us/sample - loss: 0.3933 - acc: 0.8154\n",
      "Epoch 31/200\n",
      "3098/3098 [==============================] - 0s 32us/sample - loss: 0.3895 - acc: 0.8244\n",
      "Epoch 32/200\n",
      "3098/3098 [==============================] - 0s 37us/sample - loss: 0.3923 - acc: 0.8186\n",
      "Epoch 33/200\n",
      "3098/3098 [==============================] - 0s 36us/sample - loss: 0.3905 - acc: 0.8147\n",
      "Epoch 34/200\n",
      "3098/3098 [==============================] - 0s 32us/sample - loss: 0.3937 - acc: 0.8183\n",
      "Epoch 35/200\n",
      "3098/3098 [==============================] - 0s 32us/sample - loss: 0.3971 - acc: 0.8189\n",
      "Epoch 36/200\n",
      "3098/3098 [==============================] - 0s 34us/sample - loss: 0.3904 - acc: 0.8209\n",
      "Epoch 37/200\n",
      "3098/3098 [==============================] - 0s 34us/sample - loss: 0.4002 - acc: 0.8160\n",
      "Epoch 38/200\n",
      "3098/3098 [==============================] - 0s 33us/sample - loss: 0.3983 - acc: 0.8134\n",
      "Epoch 39/200\n",
      "3098/3098 [==============================] - 0s 40us/sample - loss: 0.4032 - acc: 0.8034\n",
      "Epoch 40/200\n",
      "3098/3098 [==============================] - 0s 49us/sample - loss: 0.3855 - acc: 0.8205\n",
      "Epoch 41/200\n",
      "3098/3098 [==============================] - 0s 42us/sample - loss: 0.3857 - acc: 0.8276\n",
      "Epoch 42/200\n",
      "3098/3098 [==============================] - 0s 39us/sample - loss: 0.3905 - acc: 0.8183\n",
      "Epoch 43/200\n",
      "3098/3098 [==============================] - 0s 36us/sample - loss: 0.3898 - acc: 0.8209\n",
      "Epoch 44/200\n",
      "3098/3098 [==============================] - 0s 53us/sample - loss: 0.3856 - acc: 0.8228\n",
      "Epoch 45/200\n",
      "3098/3098 [==============================] - 0s 40us/sample - loss: 0.3917 - acc: 0.8238\n",
      "Epoch 46/200\n",
      "3098/3098 [==============================] - 0s 44us/sample - loss: 0.4063 - acc: 0.8121\n",
      "Epoch 47/200\n",
      "3098/3098 [==============================] - 0s 51us/sample - loss: 0.3944 - acc: 0.8179\n",
      "Epoch 48/200\n",
      "3098/3098 [==============================] - 0s 40us/sample - loss: 0.4018 - acc: 0.8157\n",
      "Epoch 49/200\n",
      "3098/3098 [==============================] - 0s 34us/sample - loss: 0.3948 - acc: 0.8170\n",
      "Epoch 50/200\n",
      "3098/3098 [==============================] - 0s 59us/sample - loss: 0.4017 - acc: 0.8128\n",
      "Epoch 51/200\n",
      "3098/3098 [==============================] - 0s 40us/sample - loss: 0.3948 - acc: 0.8154\n",
      "Epoch 52/200\n",
      "3098/3098 [==============================] - 0s 38us/sample - loss: 0.3930 - acc: 0.8218\n",
      "Epoch 53/200\n",
      "3098/3098 [==============================] - 0s 48us/sample - loss: 0.3975 - acc: 0.8154\n",
      "Epoch 54/200\n",
      "3098/3098 [==============================] - 0s 41us/sample - loss: 0.3977 - acc: 0.8150\n",
      "Epoch 55/200\n",
      "3098/3098 [==============================] - 0s 39us/sample - loss: 0.3974 - acc: 0.8183\n",
      "Epoch 56/200\n",
      "3098/3098 [==============================] - 0s 32us/sample - loss: 0.3893 - acc: 0.8228\n",
      "Epoch 57/200\n",
      "3098/3098 [==============================] - 0s 33us/sample - loss: 0.3844 - acc: 0.8221\n",
      "Epoch 58/200\n",
      "3098/3098 [==============================] - 0s 37us/sample - loss: 0.3960 - acc: 0.8134\n",
      "Epoch 59/200\n",
      "3098/3098 [==============================] - 0s 33us/sample - loss: 0.3868 - acc: 0.8209\n",
      "Epoch 60/200\n",
      "3098/3098 [==============================] - 0s 33us/sample - loss: 0.3957 - acc: 0.8167\n",
      "Epoch 61/200\n",
      "3098/3098 [==============================] - 0s 35us/sample - loss: 0.3886 - acc: 0.8196\n",
      "Epoch 62/200\n",
      "3098/3098 [==============================] - 0s 34us/sample - loss: 0.3967 - acc: 0.8189\n",
      "Epoch 63/200\n",
      "3098/3098 [==============================] - 0s 32us/sample - loss: 0.3895 - acc: 0.8199\n",
      "Epoch 64/200\n",
      "3098/3098 [==============================] - 0s 34us/sample - loss: 0.4156 - acc: 0.8138\n",
      "Epoch 65/200\n",
      "3098/3098 [==============================] - 0s 32us/sample - loss: 0.3939 - acc: 0.8170\n",
      "Epoch 66/200\n",
      "3098/3098 [==============================] - 0s 33us/sample - loss: 0.3939 - acc: 0.8131\n",
      "Epoch 67/200\n",
      "3098/3098 [==============================] - 0s 39us/sample - loss: 0.3846 - acc: 0.8244\n",
      "Epoch 68/200\n",
      "3098/3098 [==============================] - 0s 41us/sample - loss: 0.4014 - acc: 0.8134\n",
      "Epoch 69/200\n",
      "3098/3098 [==============================] - 0s 33us/sample - loss: 0.3873 - acc: 0.8215\n",
      "Epoch 70/200\n",
      "3098/3098 [==============================] - 0s 32us/sample - loss: 0.3908 - acc: 0.8218\n",
      "Epoch 71/200\n",
      "3098/3098 [==============================] - 0s 31us/sample - loss: 0.3844 - acc: 0.8238\n",
      "Epoch 72/200\n",
      "3098/3098 [==============================] - 0s 32us/sample - loss: 0.3877 - acc: 0.8147\n",
      "Epoch 73/200\n",
      "3098/3098 [==============================] - 0s 36us/sample - loss: 0.3946 - acc: 0.8173\n",
      "Epoch 74/200\n",
      "3098/3098 [==============================] - 0s 33us/sample - loss: 0.3882 - acc: 0.8218\n",
      "Epoch 75/200\n",
      "3098/3098 [==============================] - 0s 31us/sample - loss: 0.4022 - acc: 0.8099\n",
      "Epoch 76/200\n",
      "3098/3098 [==============================] - 0s 31us/sample - loss: 0.3949 - acc: 0.8144\n",
      "Epoch 77/200\n",
      "3098/3098 [==============================] - 0s 32us/sample - loss: 0.3901 - acc: 0.8225\n",
      "Epoch 78/200\n",
      "3098/3098 [==============================] - 0s 36us/sample - loss: 0.3903 - acc: 0.8205\n",
      "Epoch 79/200\n",
      "3098/3098 [==============================] - 0s 32us/sample - loss: 0.3983 - acc: 0.8170\n",
      "Epoch 80/200\n",
      "3098/3098 [==============================] - 0s 31us/sample - loss: 0.3957 - acc: 0.8170\n",
      "Epoch 81/200\n"
     ]
    },
    {
     "name": "stdout",
     "output_type": "stream",
     "text": [
      "3098/3098 [==============================] - 0s 31us/sample - loss: 0.3899 - acc: 0.8160\n",
      "Epoch 82/200\n",
      "3098/3098 [==============================] - 0s 30us/sample - loss: 0.4127 - acc: 0.8041\n",
      "Epoch 83/200\n",
      "3098/3098 [==============================] - 0s 32us/sample - loss: 0.3859 - acc: 0.8199\n",
      "Epoch 84/200\n",
      "3098/3098 [==============================] - 0s 31us/sample - loss: 0.3898 - acc: 0.8176\n",
      "Epoch 85/200\n",
      "3098/3098 [==============================] - 0s 33us/sample - loss: 0.4072 - acc: 0.8150\n",
      "Epoch 86/200\n",
      "3098/3098 [==============================] - 0s 31us/sample - loss: 0.3888 - acc: 0.8189\n",
      "Epoch 87/200\n",
      "3098/3098 [==============================] - 0s 31us/sample - loss: 0.3861 - acc: 0.8241\n",
      "Epoch 88/200\n",
      "3098/3098 [==============================] - 0s 34us/sample - loss: 0.3908 - acc: 0.8199\n",
      "Epoch 89/200\n",
      "3098/3098 [==============================] - 0s 31us/sample - loss: 0.4071 - acc: 0.8173\n",
      "Epoch 90/200\n",
      "3098/3098 [==============================] - 0s 32us/sample - loss: 0.3990 - acc: 0.8173\n",
      "Epoch 91/200\n",
      "3098/3098 [==============================] - 0s 32us/sample - loss: 0.3973 - acc: 0.8167\n",
      "Epoch 92/200\n",
      "3098/3098 [==============================] - 0s 30us/sample - loss: 0.3858 - acc: 0.8244\n",
      "Epoch 93/200\n",
      "3098/3098 [==============================] - 0s 32us/sample - loss: 0.3947 - acc: 0.8147\n",
      "Epoch 94/200\n",
      "3098/3098 [==============================] - 0s 31us/sample - loss: 0.3862 - acc: 0.8283\n",
      "Epoch 95/200\n",
      "3098/3098 [==============================] - 0s 35us/sample - loss: 0.3866 - acc: 0.8231\n",
      "Epoch 96/200\n",
      "3098/3098 [==============================] - 0s 33us/sample - loss: 0.3886 - acc: 0.8238\n",
      "Epoch 97/200\n",
      "3098/3098 [==============================] - 0s 32us/sample - loss: 0.3845 - acc: 0.8250\n",
      "Epoch 98/200\n",
      "3098/3098 [==============================] - 0s 33us/sample - loss: 0.3965 - acc: 0.8212\n",
      "Epoch 99/200\n",
      "3098/3098 [==============================] - 0s 33us/sample - loss: 0.3937 - acc: 0.8231\n",
      "Epoch 100/200\n",
      "3098/3098 [==============================] - 0s 32us/sample - loss: 0.3897 - acc: 0.8173\n",
      "Epoch 101/200\n",
      "3098/3098 [==============================] - 0s 31us/sample - loss: 0.4012 - acc: 0.8150\n",
      "Epoch 102/200\n",
      "3098/3098 [==============================] - 0s 33us/sample - loss: 0.3930 - acc: 0.8154\n",
      "Epoch 103/200\n",
      "3098/3098 [==============================] - 0s 32us/sample - loss: 0.3840 - acc: 0.8202\n",
      "Epoch 104/200\n",
      "3098/3098 [==============================] - 0s 32us/sample - loss: 0.4016 - acc: 0.8163\n",
      "Epoch 105/200\n",
      "3098/3098 [==============================] - 0s 30us/sample - loss: 0.3892 - acc: 0.8212\n",
      "Epoch 106/200\n",
      "3098/3098 [==============================] - 0s 32us/sample - loss: 0.3931 - acc: 0.8196\n",
      "Epoch 107/200\n",
      "3098/3098 [==============================] - 0s 32us/sample - loss: 0.3906 - acc: 0.8131\n",
      "Epoch 108/200\n",
      "3098/3098 [==============================] - 0s 32us/sample - loss: 0.3837 - acc: 0.8202\n",
      "Epoch 109/200\n",
      "3098/3098 [==============================] - 0s 39us/sample - loss: 0.3849 - acc: 0.8241\n",
      "Epoch 110/200\n",
      "3098/3098 [==============================] - 0s 32us/sample - loss: 0.4054 - acc: 0.8147\n",
      "Epoch 111/200\n",
      "3098/3098 [==============================] - 0s 33us/sample - loss: 0.4003 - acc: 0.8150\n",
      "Epoch 112/200\n",
      "3098/3098 [==============================] - 0s 38us/sample - loss: 0.3835 - acc: 0.8189\n",
      "Epoch 113/200\n",
      "3098/3098 [==============================] - 0s 38us/sample - loss: 0.3918 - acc: 0.8199\n",
      "Epoch 114/200\n",
      "3098/3098 [==============================] - 0s 33us/sample - loss: 0.3892 - acc: 0.8173\n",
      "Epoch 115/200\n",
      "3098/3098 [==============================] - 0s 39us/sample - loss: 0.3863 - acc: 0.8225\n",
      "Epoch 116/200\n",
      "3098/3098 [==============================] - 0s 37us/sample - loss: 0.3897 - acc: 0.8186\n",
      "Epoch 117/200\n",
      "3098/3098 [==============================] - 0s 35us/sample - loss: 0.3950 - acc: 0.8176\n",
      "Epoch 118/200\n",
      "3098/3098 [==============================] - 0s 37us/sample - loss: 0.3785 - acc: 0.8283\n",
      "Epoch 119/200\n",
      "3098/3098 [==============================] - 0s 32us/sample - loss: 0.3951 - acc: 0.8125\n",
      "Epoch 120/200\n",
      "3098/3098 [==============================] - 0s 34us/sample - loss: 0.3877 - acc: 0.8163\n",
      "Epoch 121/200\n",
      "3098/3098 [==============================] - 0s 40us/sample - loss: 0.3960 - acc: 0.8173\n",
      "Epoch 122/200\n",
      "3098/3098 [==============================] - 0s 39us/sample - loss: 0.3816 - acc: 0.8238\n",
      "Epoch 123/200\n",
      "3098/3098 [==============================] - 0s 36us/sample - loss: 0.3893 - acc: 0.8225\n",
      "Epoch 124/200\n",
      "3098/3098 [==============================] - 0s 49us/sample - loss: 0.3846 - acc: 0.8257\n",
      "Epoch 125/200\n",
      "3098/3098 [==============================] - 0s 50us/sample - loss: 0.3870 - acc: 0.8209\n",
      "Epoch 126/200\n",
      "3098/3098 [==============================] - 0s 52us/sample - loss: 0.3959 - acc: 0.8163\n",
      "Epoch 127/200\n",
      "3098/3098 [==============================] - 0s 33us/sample - loss: 0.3819 - acc: 0.8250\n",
      "Epoch 128/200\n",
      "3098/3098 [==============================] - 0s 28us/sample - loss: 0.3858 - acc: 0.8205\n",
      "Epoch 129/200\n",
      "3098/3098 [==============================] - 0s 29us/sample - loss: 0.3818 - acc: 0.8244\n",
      "Epoch 130/200\n",
      "3098/3098 [==============================] - 0s 34us/sample - loss: 0.3849 - acc: 0.8260\n",
      "Epoch 131/200\n",
      "3098/3098 [==============================] - 0s 31us/sample - loss: 0.3862 - acc: 0.8196\n",
      "Epoch 132/200\n",
      "3098/3098 [==============================] - 0s 30us/sample - loss: 0.3828 - acc: 0.8263\n",
      "Epoch 133/200\n",
      "3098/3098 [==============================] - 0s 28us/sample - loss: 0.3817 - acc: 0.8250\n",
      "Epoch 134/200\n",
      "3098/3098 [==============================] - 0s 27us/sample - loss: 0.3863 - acc: 0.8212\n",
      "Epoch 135/200\n",
      "3098/3098 [==============================] - 0s 35us/sample - loss: 0.3852 - acc: 0.8183\n",
      "Epoch 136/200\n",
      "3098/3098 [==============================] - 0s 36us/sample - loss: 0.3813 - acc: 0.8189\n",
      "Epoch 137/200\n",
      "3098/3098 [==============================] - 0s 34us/sample - loss: 0.3927 - acc: 0.8163\n",
      "Epoch 138/200\n",
      "3098/3098 [==============================] - 0s 28us/sample - loss: 0.3880 - acc: 0.8205\n",
      "Epoch 139/200\n",
      "3098/3098 [==============================] - 0s 29us/sample - loss: 0.3895 - acc: 0.8163\n",
      "Epoch 140/200\n",
      "3098/3098 [==============================] - 0s 29us/sample - loss: 0.3836 - acc: 0.8244\n",
      "Epoch 141/200\n",
      "3098/3098 [==============================] - 0s 28us/sample - loss: 0.3899 - acc: 0.8170\n",
      "Epoch 142/200\n",
      "3098/3098 [==============================] - 0s 28us/sample - loss: 0.3891 - acc: 0.8225\n",
      "Epoch 143/200\n",
      "3098/3098 [==============================] - 0s 39us/sample - loss: 0.3831 - acc: 0.8189\n",
      "Epoch 144/200\n",
      "3098/3098 [==============================] - 0s 41us/sample - loss: 0.3815 - acc: 0.8244\n",
      "Epoch 145/200\n",
      "3098/3098 [==============================] - 0s 41us/sample - loss: 0.3850 - acc: 0.8241\n",
      "Epoch 146/200\n",
      "3098/3098 [==============================] - 0s 30us/sample - loss: 0.3877 - acc: 0.8173\n",
      "Epoch 147/200\n",
      "3098/3098 [==============================] - 0s 40us/sample - loss: 0.3835 - acc: 0.8202\n",
      "Epoch 148/200\n",
      "3098/3098 [==============================] - 0s 33us/sample - loss: 0.3882 - acc: 0.8179\n",
      "Epoch 149/200\n",
      "3098/3098 [==============================] - 0s 29us/sample - loss: 0.3835 - acc: 0.8192\n",
      "Epoch 150/200\n",
      "3098/3098 [==============================] - 0s 28us/sample - loss: 0.3869 - acc: 0.8173\n",
      "Epoch 151/200\n",
      "3098/3098 [==============================] - 0s 28us/sample - loss: 0.3876 - acc: 0.8225\n",
      "Epoch 152/200\n",
      "3098/3098 [==============================] - 0s 29us/sample - loss: 0.4016 - acc: 0.8099\n",
      "Epoch 153/200\n",
      "3098/3098 [==============================] - 0s 28us/sample - loss: 0.3908 - acc: 0.8183\n",
      "Epoch 154/200\n",
      "3098/3098 [==============================] - 0s 28us/sample - loss: 0.3842 - acc: 0.8254\n",
      "Epoch 155/200\n",
      "3098/3098 [==============================] - 0s 28us/sample - loss: 0.3822 - acc: 0.8225\n",
      "Epoch 156/200\n",
      "3098/3098 [==============================] - 0s 28us/sample - loss: 0.3810 - acc: 0.8218\n",
      "Epoch 157/200\n",
      "3098/3098 [==============================] - 0s 28us/sample - loss: 0.3815 - acc: 0.8238\n",
      "Epoch 158/200\n",
      "3098/3098 [==============================] - 0s 32us/sample - loss: 0.3859 - acc: 0.8241\n",
      "Epoch 159/200\n",
      "3098/3098 [==============================] - 0s 28us/sample - loss: 0.3871 - acc: 0.8205\n",
      "Epoch 160/200\n"
     ]
    },
    {
     "name": "stdout",
     "output_type": "stream",
     "text": [
      "3098/3098 [==============================] - 0s 29us/sample - loss: 0.3876 - acc: 0.8189\n",
      "Epoch 161/200\n",
      "3098/3098 [==============================] - 0s 27us/sample - loss: 0.3907 - acc: 0.8202\n",
      "Epoch 162/200\n",
      "3098/3098 [==============================] - 0s 28us/sample - loss: 0.3872 - acc: 0.8202\n",
      "Epoch 163/200\n",
      "3098/3098 [==============================] - 0s 28us/sample - loss: 0.3867 - acc: 0.8228\n",
      "Epoch 164/200\n",
      "3098/3098 [==============================] - 0s 28us/sample - loss: 0.3812 - acc: 0.8247\n",
      "Epoch 165/200\n",
      "3098/3098 [==============================] - 0s 41us/sample - loss: 0.3816 - acc: 0.8234\n",
      "Epoch 166/200\n",
      "3098/3098 [==============================] - 0s 31us/sample - loss: 0.3843 - acc: 0.8186\n",
      "Epoch 167/200\n",
      "3098/3098 [==============================] - 0s 29us/sample - loss: 0.3798 - acc: 0.8257\n",
      "Epoch 168/200\n",
      "3098/3098 [==============================] - 0s 29us/sample - loss: 0.4086 - acc: 0.8089\n",
      "Epoch 169/200\n",
      "3098/3098 [==============================] - 0s 31us/sample - loss: 0.3967 - acc: 0.8212\n",
      "Epoch 170/200\n",
      "3098/3098 [==============================] - 0s 31us/sample - loss: 0.3900 - acc: 0.8196\n",
      "Epoch 171/200\n",
      "3098/3098 [==============================] - 0s 35us/sample - loss: 0.3838 - acc: 0.8244\n",
      "Epoch 172/200\n",
      "3098/3098 [==============================] - 0s 33us/sample - loss: 0.3846 - acc: 0.8280\n",
      "Epoch 173/200\n",
      "3098/3098 [==============================] - 0s 31us/sample - loss: 0.3885 - acc: 0.8157\n",
      "Epoch 174/200\n",
      "3098/3098 [==============================] - 0s 38us/sample - loss: 0.3847 - acc: 0.8238\n",
      "Epoch 175/200\n",
      "3098/3098 [==============================] - 0s 39us/sample - loss: 0.3870 - acc: 0.8205\n",
      "Epoch 176/200\n",
      "3098/3098 [==============================] - 0s 29us/sample - loss: 0.3793 - acc: 0.8234\n",
      "Epoch 177/200\n",
      "3098/3098 [==============================] - 0s 28us/sample - loss: 0.3908 - acc: 0.8231\n",
      "Epoch 178/200\n",
      "3098/3098 [==============================] - 0s 36us/sample - loss: 0.3842 - acc: 0.8199\n",
      "Epoch 179/200\n",
      "3098/3098 [==============================] - 0s 40us/sample - loss: 0.3841 - acc: 0.8241\n",
      "Epoch 180/200\n",
      "3098/3098 [==============================] - 0s 30us/sample - loss: 0.3784 - acc: 0.8280\n",
      "Epoch 181/200\n",
      "3098/3098 [==============================] - 0s 27us/sample - loss: 0.3810 - acc: 0.8254\n",
      "Epoch 182/200\n",
      "3098/3098 [==============================] - 0s 28us/sample - loss: 0.3820 - acc: 0.8218\n",
      "Epoch 183/200\n",
      "3098/3098 [==============================] - 0s 29us/sample - loss: 0.3886 - acc: 0.8173\n",
      "Epoch 184/200\n",
      "3098/3098 [==============================] - 0s 30us/sample - loss: 0.3869 - acc: 0.8179\n",
      "Epoch 185/200\n",
      "3098/3098 [==============================] - 0s 29us/sample - loss: 0.3877 - acc: 0.8244\n",
      "Epoch 186/200\n",
      "3098/3098 [==============================] - 0s 40us/sample - loss: 0.3808 - acc: 0.8234\n",
      "Epoch 187/200\n",
      "3098/3098 [==============================] - 0s 48us/sample - loss: 0.3804 - acc: 0.8244\n",
      "Epoch 188/200\n",
      "3098/3098 [==============================] - 0s 38us/sample - loss: 0.3803 - acc: 0.8280\n",
      "Epoch 189/200\n",
      "3098/3098 [==============================] - 0s 37us/sample - loss: 0.3797 - acc: 0.8250\n",
      "Epoch 190/200\n",
      "3098/3098 [==============================] - 0s 31us/sample - loss: 0.3851 - acc: 0.8225\n",
      "Epoch 191/200\n",
      "3098/3098 [==============================] - 0s 28us/sample - loss: 0.3817 - acc: 0.8231\n",
      "Epoch 192/200\n",
      "3098/3098 [==============================] - 0s 28us/sample - loss: 0.3863 - acc: 0.8247\n",
      "Epoch 193/200\n",
      "3098/3098 [==============================] - 0s 42us/sample - loss: 0.3831 - acc: 0.8199\n",
      "Epoch 194/200\n",
      "3098/3098 [==============================] - 0s 49us/sample - loss: 0.3854 - acc: 0.8196\n",
      "Epoch 195/200\n",
      "3098/3098 [==============================] - 0s 37us/sample - loss: 0.3916 - acc: 0.8189\n",
      "Epoch 196/200\n",
      "3098/3098 [==============================] - 0s 33us/sample - loss: 0.3833 - acc: 0.8267\n",
      "Epoch 197/200\n",
      "3098/3098 [==============================] - 0s 28us/sample - loss: 0.3805 - acc: 0.8250\n",
      "Epoch 198/200\n",
      "3098/3098 [==============================] - 0s 32us/sample - loss: 0.3821 - acc: 0.8244\n",
      "Epoch 199/200\n",
      "3098/3098 [==============================] - 0s 28us/sample - loss: 0.3783 - acc: 0.8231\n",
      "Epoch 200/200\n",
      "3098/3098 [==============================] - 0s 28us/sample - loss: 0.3809 - acc: 0.8283\n"
     ]
    },
    {
     "data": {
      "text/plain": [
       "<tensorflow.python.keras.callbacks.History at 0x17460d435c0>"
      ]
     },
     "execution_count": 157,
     "metadata": {},
     "output_type": "execute_result"
    }
   ],
   "source": [
    "model.fit(X_train, y_train, epochs=200, batch_size=50)"
   ]
  },
  {
   "cell_type": "code",
   "execution_count": 158,
   "metadata": {},
   "outputs": [
    {
     "name": "stdout",
     "output_type": "stream",
     "text": [
      "3945/3945 [==============================] - 0s 25us/sample - loss: 0.5042 - acc: 0.7640\n"
     ]
    }
   ],
   "source": [
    "_, accuracy = model.evaluate(X_test, y_test)"
   ]
  },
  {
   "cell_type": "code",
   "execution_count": null,
   "metadata": {},
   "outputs": [],
   "source": []
  }
 ],
 "metadata": {
  "kernelspec": {
   "display_name": "Python 3",
   "language": "python",
   "name": "python3"
  },
  "language_info": {
   "codemirror_mode": {
    "name": "ipython",
    "version": 3
   },
   "file_extension": ".py",
   "mimetype": "text/x-python",
   "name": "python",
   "nbconvert_exporter": "python",
   "pygments_lexer": "ipython3",
   "version": "3.6.4"
  }
 },
 "nbformat": 4,
 "nbformat_minor": 2
}
